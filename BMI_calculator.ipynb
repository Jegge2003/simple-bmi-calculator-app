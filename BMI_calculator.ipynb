{
  "nbformat": 4,
  "nbformat_minor": 0,
  "metadata": {
    "colab": {
      "name": "BMI_calculator.ipynb",
      "provenance": [],
      "authorship_tag": "ABX9TyPbjiCFcxZTGa8kJN6Hy413",
      "include_colab_link": true
    },
    "kernelspec": {
      "name": "python3",
      "display_name": "Python 3"
    },
    "language_info": {
      "name": "python"
    }
  },
  "cells": [
    {
      "cell_type": "markdown",
      "metadata": {
        "id": "view-in-github",
        "colab_type": "text"
      },
      "source": [
        "<a href=\"https://colab.research.google.com/github/Jegge2003/simple-bmi-calculator-app/blob/main/BMI_calculator.ipynb\" target=\"_parent\"><img src=\"https://colab.research.google.com/assets/colab-badge.svg\" alt=\"Open In Colab\"/></a>"
      ]
    },
    {
      "cell_type": "markdown",
      "source": [
        "**BODY MASS INDEX (BMI) CALCULATOR**"
      ],
      "metadata": {
        "id": "o0OYSN9dM8RT"
      }
    },
    {
      "cell_type": "markdown",
      "source": [
        "This code takes the weight input of the individual in kilograms and converts it into a float. It then takes the height input of the individual in meters and converts it into a float. The BMI is then calculated and then later printed for the individual. \n"
      ],
      "metadata": {
        "id": "PYBjFHmaNFPg"
      }
    },
    {
      "cell_type": "code",
      "execution_count": 4,
      "metadata": {
        "colab": {
          "base_uri": "https://localhost:8080/"
        },
        "id": "mKGyIyz0_9D_",
        "outputId": "9d84312b-4247-4fef-8717-757f69e4e132"
      },
      "outputs": [
        {
          "output_type": "stream",
          "name": "stdout",
          "text": [
            "Enter your weight in kilograms: 71\n",
            "Enter your height in metres: 1.7\n",
            "Your BMI is 24.56747404844291 kg/m^2\n"
          ]
        }
      ],
      "source": [
        "#Taking the weight input of the individual\n",
        "weight = float(input('Enter your weight in kilograms: '))\n",
        "\n",
        "#Taking the height input of the individual\n",
        "height = float(input('Enter your height in metres: '))\n",
        "\n",
        "#Calculating the Body Mass Index (BMI)\n",
        "BMI = weight/height**2\n",
        "\n",
        "#Printing out the BMI value\n",
        "print(f'Your BMI is {BMI} kg/m^2'.format(BMI))"
      ]
    }
  ]
}